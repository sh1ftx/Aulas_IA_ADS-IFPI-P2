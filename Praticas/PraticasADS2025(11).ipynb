{
 "cells": [
  {
   "cell_type": "markdown",
   "metadata": {
    "id": "Uy14E65F3Ov_"
   },
   "source": [
    "Praticas iniciais com pandas"
   ]
  },
  {
   "cell_type": "code",
   "execution_count": null,
   "metadata": {
    "colab": {
     "base_uri": "https://localhost:8080/"
    },
    "executionInfo": {
     "elapsed": 1313,
     "status": "ok",
     "timestamp": 1745972332868,
     "user": {
      "displayName": "Gleison Oliveira",
      "userId": "07811774308598298267"
     },
     "user_tz": 180
    },
    "id": "aXTWqF5m1GTE",
    "outputId": "261382c9-83fb-4a5c-817d-e41defff52e1"
   },
   "outputs": [],
   "source": [
    "from google.colab import drive #importa o drive do colab\n",
    "import pandas as pd #importa a biblioteca com o as pd\n",
    "#print(\"Testando a versão do pandas\")\n",
    "#print(pd.__version__) #verifica a versão do pandas\n",
    "\n",
    "drive.mount(\"/content/drive\")\n",
    "\n",
    "#print(\"Exibindo um arquivo .csv\")\n",
    "\n",
    "df = pd.read_csv(\"/content/drive/MyDrive/world_happiness_report_2015.csv\")\n",
    "\n",
    "#print(\"Exibindo o formato dos dados\")\n",
    "\n",
    "#print(df.describe)\n",
    "\n",
    "#print(df.describe())\n",
    "\n",
    "#print(df.shape)\n",
    "\n",
    "#print(df.tail())\n",
    "\n",
    "#print(df.columns)\n",
    "\n",
    "df.columns = ['Country', 'Region', 'rank_felicidade', 'score_felicidade',\n",
    "              'stand_error', 'PIB',\n",
    "              'Family',\n",
    "              'expect_vida', 'Freedom',\n",
    "              'corrupcao',\n",
    "              'Generosity', 'Dystopia Residual']\n",
    "\n",
    "\n",
    "print(df.head())\n",
    "\n",
    "print(df.tail())\n",
    "\n",
    "print(df.columns)\n",
    "\n",
    "print(df.info())\n",
    "\n",
    "print()\n",
    "\n",
    "print(\"Nenhum dado nulo\")\n",
    "\n",
    "print()\n",
    "\n",
    "print(\"Media \",df['expect_vida'].mean())\n",
    "\n",
    "print()\n",
    "\n",
    "print(\"Mediana \",df['PIB'].median())\n",
    "\n",
    "print()\n",
    "\n",
    "print(\"Valor maximo \",df['PIB'].max())\n",
    "\n",
    "#print(df.hist())\n",
    "\n",
    "#hp = df.HapRank\n",
    "\n",
    "#print(hp.describe())\n",
    "\n",
    "#print(df['HapRank'].describe())\n",
    "print(df.info())\n",
    "# X = df.loc[['Country', 'Region', 'rank_felicidade', 'score_felicidade',\n",
    "#               'stand_error', 'PIB',\n",
    "#               'Family',\n",
    "#               'expect_vida', 'Freedom',\n",
    "#               'corrupcao',\n",
    "#               'Generosity']]\n",
    "\n",
    "X = df.loc[: , 'Country':'Generosity']\n",
    "print(X.describe())\n",
    "print(X.shape)\n",
    "y = df['Dystopia Residencial']\n",
    "print(y.shape)\n",
    "\n"
   ]
  }
 ],
 "metadata": {
  "colab": {
   "authorship_tag": "ABX9TyMdtf9Vdrifl1BzCi7VzvoC",
   "provenance": []
  },
  "kernelspec": {
   "display_name": "Python 3",
   "name": "python3"
  },
  "language_info": {
   "name": "python"
  }
 },
 "nbformat": 4,
 "nbformat_minor": 0
}
